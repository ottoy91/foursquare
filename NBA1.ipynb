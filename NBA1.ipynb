{
 "cells": [
  {
   "cell_type": "markdown",
   "metadata": {},
   "source": [
    "### Venues near by the arenas of NBA teams\n",
    "\n",
    "This project is about to find out if there is any certain type of venues that are located near by the National Basketball Association arenas where the teams are playing their home games. In this project we will not only find out which are the most popular venues. The teams are representing big cities but here we will also find out which teams are maybe playing their home games in a more scattered area.\n",
    "\n",
    "To answer this question we need to find the geographic location of these arenas as well as use the Foursquare location data to get the venues."
   ]
  }
 ],
 "metadata": {
  "kernelspec": {
   "display_name": "Python 3",
   "language": "python",
   "name": "python3"
  },
  "language_info": {
   "codemirror_mode": {
    "name": "ipython",
    "version": 3
   },
   "file_extension": ".py",
   "mimetype": "text/x-python",
   "name": "python",
   "nbconvert_exporter": "python",
   "pygments_lexer": "ipython3",
   "version": "3.7.6"
  }
 },
 "nbformat": 4,
 "nbformat_minor": 4
}
